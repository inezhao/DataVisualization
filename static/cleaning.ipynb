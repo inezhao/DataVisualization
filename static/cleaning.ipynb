{
 "cells": [
  {
   "cell_type": "code",
   "execution_count": 1,
   "metadata": {},
   "outputs": [],
   "source": [
    "import pandas as pd\n",
    "\n",
    "orders = pd.read_csv('orders.csv', dtype='str')"
   ]
  },
  {
   "cell_type": "code",
   "execution_count": 3,
   "metadata": {},
   "outputs": [
    {
     "data": {
      "text/html": [
       "<div>\n",
       "<style scoped>\n",
       "    .dataframe tbody tr th:only-of-type {\n",
       "        vertical-align: middle;\n",
       "    }\n",
       "\n",
       "    .dataframe tbody tr th {\n",
       "        vertical-align: top;\n",
       "    }\n",
       "\n",
       "    .dataframe thead th {\n",
       "        text-align: right;\n",
       "    }\n",
       "</style>\n",
       "<table border=\"1\" class=\"dataframe\">\n",
       "  <thead>\n",
       "    <tr style=\"text-align: right;\">\n",
       "      <th></th>\n",
       "      <th>OrderID</th>\n",
       "      <th>OrderDate</th>\n",
       "      <th>DeliveryDate</th>\n",
       "      <th>CustomerID</th>\n",
       "      <th>Territory</th>\n",
       "      <th>Products</th>\n",
       "      <th>productsIDs</th>\n",
       "      <th>Quantities</th>\n",
       "      <th>CartPriceInCP</th>\n",
       "      <th>CartPrice</th>\n",
       "      <th>ProductPricesInCP</th>\n",
       "    </tr>\n",
       "  </thead>\n",
       "  <tbody>\n",
       "    <tr>\n",
       "      <th>0</th>\n",
       "      <td>1</td>\n",
       "      <td>2019-01-01</td>\n",
       "      <td>2019-01-11</td>\n",
       "      <td>54295995</td>\n",
       "      <td>Bloodstone (Damara)</td>\n",
       "      <td>Blood of the Lycanthrope Antidote; Blanket; Ro...</td>\n",
       "      <td>12436254, 24180928, 97076903, 33879927</td>\n",
       "      <td>8, 4, 9, 3</td>\n",
       "      <td>10285</td>\n",
       "      <td>102  GP;  8  SP;  5  CP</td>\n",
       "      <td>1128, 2728, 5517, 912</td>\n",
       "    </tr>\n",
       "  </tbody>\n",
       "</table>\n",
       "</div>"
      ],
      "text/plain": [
       "  OrderID   OrderDate DeliveryDate CustomerID            Territory  \\\n",
       "0       1  2019-01-01   2019-01-11   54295995  Bloodstone (Damara)   \n",
       "\n",
       "                                            Products  \\\n",
       "0  Blood of the Lycanthrope Antidote; Blanket; Ro...   \n",
       "\n",
       "                              productsIDs  Quantities CartPriceInCP  \\\n",
       "0  12436254, 24180928, 97076903, 33879927  8, 4, 9, 3         10285   \n",
       "\n",
       "                 CartPrice      ProductPricesInCP  \n",
       "0  102  GP;  8  SP;  5  CP  1128, 2728, 5517, 912  "
      ]
     },
     "execution_count": 3,
     "metadata": {},
     "output_type": "execute_result"
    }
   ],
   "source": [
    "orders.head(1)"
   ]
  },
  {
   "cell_type": "code",
   "execution_count": 23,
   "metadata": {},
   "outputs": [],
   "source": [
    "products = []\n",
    "productsIds = []\n",
    "quantities = []\n",
    "prices = []\n",
    "\n",
    "for index, row in orders.iterrows():\n",
    "    products.append(row.Products.split('; '))\n",
    "\n",
    "    productId = row.productsIDs.split(', ')\n",
    "    productsIds.append([int(val.strip()) for val in productId])\n",
    "\n",
    "    quantity = row.Quantities.split(', ')\n",
    "    quantities.append([int(val.strip()) for val in quantity])\n",
    "\n",
    "    price = row.ProductPricesInCP.split(',')\n",
    "    prices.append([float(val.strip()) for val in price])\n",
    "\n",
    "orders.Products = products.copy()\n",
    "orders.productsIDs = productsIds.copy()\n",
    "orders.Quantities = quantities.copy()\n",
    "orders.ProductPricesInCP = prices.copy()\n",
    "orders.CartPriceInCP = [float(val.strip()) for val in orders.CartPriceInCP]"
   ]
  },
  {
   "cell_type": "code",
   "execution_count": 32,
   "metadata": {},
   "outputs": [],
   "source": [
    "for i in range(len(prices)):\n",
    "    if (len(prices[i]) != len(productsIds[i])) or (len(prices[i]) != len(quantities[i])):\n",
    "        print(i. prices[i], productIds[i])\n",
    "\n",
    "### ALL GOOD :)"
   ]
  }
 ],
 "metadata": {
  "kernelspec": {
   "display_name": "Python 3",
   "language": "python",
   "name": "python3"
  },
  "language_info": {
   "codemirror_mode": {
    "name": "ipython",
    "version": 3
   },
   "file_extension": ".py",
   "mimetype": "text/x-python",
   "name": "python",
   "nbconvert_exporter": "python",
   "pygments_lexer": "ipython3",
   "version": "3.8.10"
  }
 },
 "nbformat": 4,
 "nbformat_minor": 2
}
