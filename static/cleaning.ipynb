{
 "cells": [
  {
   "cell_type": "markdown",
   "metadata": {},
   "source": [
    "## ORDERS"
   ]
  },
  {
   "cell_type": "code",
   "execution_count": null,
   "metadata": {},
   "outputs": [],
   "source": [
    "import pandas as pd\n",
    "\n",
    "orders = pd.read_csv('orders.csv', dtype='str')"
   ]
  },
  {
   "cell_type": "code",
   "execution_count": null,
   "metadata": {},
   "outputs": [],
   "source": [
    "orders.head(1)"
   ]
  },
  {
   "cell_type": "code",
   "execution_count": null,
   "metadata": {},
   "outputs": [],
   "source": [
    "from datetime import date\n",
    "\n",
    "products = []\n",
    "productsIds = []\n",
    "quantities = []\n",
    "prices = []\n",
    "\n",
    "orderDates = []\n",
    "deliveryDates = []\n",
    "deliveryTimes = []\n",
    "\n",
    "\n",
    "for index, row in orders.iterrows():\n",
    "    products.append(row.Products.split('; '))\n",
    "\n",
    "    productId = row.productsIDs.split(', ')\n",
    "    productsIds.append([int(val.strip()) for val in productId])\n",
    "\n",
    "    quantity = row.Quantities.split(', ')\n",
    "    quantities.append([int(val.strip()) for val in quantity])\n",
    "\n",
    "    price = row.ProductPricesInCP.split(',')\n",
    "    prices.append([float(val.strip()) for val in price])\n",
    "\n",
    "    # create a date object representing March 1, 2023\n",
    "    start_date = date(2023, 3, 1)\n",
    "\n",
    "\n",
    "    orderDate = row.OrderDate.strip().split('-')\n",
    "    orderDate = date(int(orderDate[0]), int(orderDate[1]), int(orderDate[2]))\n",
    "    orderDates.append(orderDate)\n",
    "    deliveryDate = row.DeliveryDate.strip().split('-')\n",
    "    deliveryDate = date(int(deliveryDate[0]), int(deliveryDate[1]), int(deliveryDate[2]))\n",
    "\n",
    "    deliveryTimes.append((deliveryDate-orderDate).days)\n",
    "    print(deliveryTimes[-1])\n",
    "\n",
    "orders.Products = products.copy()\n",
    "orders.productsIDs = productsIds.copy()\n",
    "orders.Quantities = quantities.copy()\n",
    "orders.ProductPricesInCP = prices.copy()\n",
    "orders.CartPriceInCP = [float(val.strip()) for val in orders.CartPriceInCP]\n",
    "orders.OrderDate = orderDates.copy()\n",
    "orders[\"DeliveryTime\"] = deliveryTimes"
   ]
  },
  {
   "cell_type": "code",
   "execution_count": 8,
   "metadata": {},
   "outputs": [
    {
     "data": {
      "text/html": [
       "<div>\n",
       "<style scoped>\n",
       "    .dataframe tbody tr th:only-of-type {\n",
       "        vertical-align: middle;\n",
       "    }\n",
       "\n",
       "    .dataframe tbody tr th {\n",
       "        vertical-align: top;\n",
       "    }\n",
       "\n",
       "    .dataframe thead th {\n",
       "        text-align: right;\n",
       "    }\n",
       "</style>\n",
       "<table border=\"1\" class=\"dataframe\">\n",
       "  <thead>\n",
       "    <tr style=\"text-align: right;\">\n",
       "      <th></th>\n",
       "      <th>OrderID</th>\n",
       "      <th>OrderDate</th>\n",
       "      <th>DeliveryDate</th>\n",
       "      <th>CustomerID</th>\n",
       "      <th>Territory</th>\n",
       "      <th>Products</th>\n",
       "      <th>productsIDs</th>\n",
       "      <th>Quantities</th>\n",
       "      <th>CartPriceInCP</th>\n",
       "      <th>CartPrice</th>\n",
       "      <th>ProductPricesInCP</th>\n",
       "      <th>DeliveryTime</th>\n",
       "    </tr>\n",
       "  </thead>\n",
       "  <tbody>\n",
       "    <tr>\n",
       "      <th>0</th>\n",
       "      <td>1</td>\n",
       "      <td>2019-01-01</td>\n",
       "      <td>2019-01-11</td>\n",
       "      <td>54295995</td>\n",
       "      <td>Bloodstone (Damara)</td>\n",
       "      <td>[Blood of the Lycanthrope Antidote, Blanket, R...</td>\n",
       "      <td>[12436254, 24180928, 97076903, 33879927]</td>\n",
       "      <td>[8, 4, 9, 3]</td>\n",
       "      <td>10285.0</td>\n",
       "      <td>102  GP;  8  SP;  5  CP</td>\n",
       "      <td>[1128.0, 2728.0, 5517.0, 912.0]</td>\n",
       "      <td>10</td>\n",
       "    </tr>\n",
       "  </tbody>\n",
       "</table>\n",
       "</div>"
      ],
      "text/plain": [
       "  OrderID   OrderDate DeliveryDate CustomerID            Territory  \\\n",
       "0       1  2019-01-01   2019-01-11   54295995  Bloodstone (Damara)   \n",
       "\n",
       "                                            Products  \\\n",
       "0  [Blood of the Lycanthrope Antidote, Blanket, R...   \n",
       "\n",
       "                                productsIDs    Quantities  CartPriceInCP  \\\n",
       "0  [12436254, 24180928, 97076903, 33879927]  [8, 4, 9, 3]        10285.0   \n",
       "\n",
       "                 CartPrice                ProductPricesInCP  DeliveryTime  \n",
       "0  102  GP;  8  SP;  5  CP  [1128.0, 2728.0, 5517.0, 912.0]            10  "
      ]
     },
     "execution_count": 8,
     "metadata": {},
     "output_type": "execute_result"
    }
   ],
   "source": [
    "orders.head(1)"
   ]
  },
  {
   "cell_type": "markdown",
   "metadata": {},
   "source": [
    "## PRODUCTS"
   ]
  },
  {
   "cell_type": "code",
   "execution_count": null,
   "metadata": {},
   "outputs": [],
   "source": [
    "products = pd.read_csv('products.csv')"
   ]
  },
  {
   "cell_type": "code",
   "execution_count": null,
   "metadata": {},
   "outputs": [],
   "source": [
    "products.head(1)"
   ]
  },
  {
   "cell_type": "markdown",
   "metadata": {},
   "source": [
    "## REGIONS"
   ]
  },
  {
   "cell_type": "code",
   "execution_count": 9,
   "metadata": {},
   "outputs": [],
   "source": [
    "regions = pd.read_csv('regions.csv')"
   ]
  },
  {
   "cell_type": "code",
   "execution_count": 10,
   "metadata": {},
   "outputs": [
    {
     "data": {
      "text/html": [
       "<div>\n",
       "<style scoped>\n",
       "    .dataframe tbody tr th:only-of-type {\n",
       "        vertical-align: middle;\n",
       "    }\n",
       "\n",
       "    .dataframe tbody tr th {\n",
       "        vertical-align: top;\n",
       "    }\n",
       "\n",
       "    .dataframe thead th {\n",
       "        text-align: right;\n",
       "    }\n",
       "</style>\n",
       "<table border=\"1\" class=\"dataframe\">\n",
       "  <thead>\n",
       "    <tr style=\"text-align: right;\">\n",
       "      <th></th>\n",
       "      <th>Territory</th>\n",
       "      <th>Nation</th>\n",
       "      <th>Region</th>\n",
       "      <th>Regional Manager</th>\n",
       "      <th>Area</th>\n",
       "      <th>Area Manager</th>\n",
       "    </tr>\n",
       "  </thead>\n",
       "  <tbody>\n",
       "    <tr>\n",
       "      <th>0</th>\n",
       "      <td>Adama's Tooth</td>\n",
       "      <td>Durpar</td>\n",
       "      <td>Thayan Empire</td>\n",
       "      <td>Tymoteusz Barrera</td>\n",
       "      <td>East</td>\n",
       "      <td>Vito Smith</td>\n",
       "    </tr>\n",
       "  </tbody>\n",
       "</table>\n",
       "</div>"
      ],
      "text/plain": [
       "       Territory  Nation         Region   Regional Manager  Area Area Manager\n",
       "0  Adama's Tooth  Durpar  Thayan Empire  Tymoteusz Barrera  East   Vito Smith"
      ]
     },
     "execution_count": 10,
     "metadata": {},
     "output_type": "execute_result"
    }
   ],
   "source": [
    "regions.head(1)"
   ]
  },
  {
   "cell_type": "code",
   "execution_count": 12,
   "metadata": {},
   "outputs": [],
   "source": [
    "regions = regions.rename(columns={\"Regional Manager\": \"RegionalManager\", \"Area Manager\": \"AreaManager\"})"
   ]
  },
  {
   "cell_type": "code",
   "execution_count": 13,
   "metadata": {},
   "outputs": [
    {
     "data": {
      "text/html": [
       "<div>\n",
       "<style scoped>\n",
       "    .dataframe tbody tr th:only-of-type {\n",
       "        vertical-align: middle;\n",
       "    }\n",
       "\n",
       "    .dataframe tbody tr th {\n",
       "        vertical-align: top;\n",
       "    }\n",
       "\n",
       "    .dataframe thead th {\n",
       "        text-align: right;\n",
       "    }\n",
       "</style>\n",
       "<table border=\"1\" class=\"dataframe\">\n",
       "  <thead>\n",
       "    <tr style=\"text-align: right;\">\n",
       "      <th></th>\n",
       "      <th>Territory</th>\n",
       "      <th>Nation</th>\n",
       "      <th>Region</th>\n",
       "      <th>RegionalManager</th>\n",
       "      <th>Area</th>\n",
       "      <th>AreaManager</th>\n",
       "    </tr>\n",
       "  </thead>\n",
       "  <tbody>\n",
       "    <tr>\n",
       "      <th>0</th>\n",
       "      <td>Adama's Tooth</td>\n",
       "      <td>Durpar</td>\n",
       "      <td>Thayan Empire</td>\n",
       "      <td>Tymoteusz Barrera</td>\n",
       "      <td>East</td>\n",
       "      <td>Vito Smith</td>\n",
       "    </tr>\n",
       "  </tbody>\n",
       "</table>\n",
       "</div>"
      ],
      "text/plain": [
       "       Territory  Nation         Region    RegionalManager  Area AreaManager\n",
       "0  Adama's Tooth  Durpar  Thayan Empire  Tymoteusz Barrera  East  Vito Smith"
      ]
     },
     "execution_count": 13,
     "metadata": {},
     "output_type": "execute_result"
    }
   ],
   "source": [
    "regions.head(1)"
   ]
  },
  {
   "cell_type": "markdown",
   "metadata": {},
   "source": [
    "## CUSTOMERS"
   ]
  },
  {
   "cell_type": "code",
   "execution_count": 14,
   "metadata": {},
   "outputs": [],
   "source": [
    "customers = pd.read_csv('customers.csv')"
   ]
  },
  {
   "cell_type": "code",
   "execution_count": 15,
   "metadata": {},
   "outputs": [
    {
     "data": {
      "text/html": [
       "<div>\n",
       "<style scoped>\n",
       "    .dataframe tbody tr th:only-of-type {\n",
       "        vertical-align: middle;\n",
       "    }\n",
       "\n",
       "    .dataframe tbody tr th {\n",
       "        vertical-align: top;\n",
       "    }\n",
       "\n",
       "    .dataframe thead th {\n",
       "        text-align: right;\n",
       "    }\n",
       "</style>\n",
       "<table border=\"1\" class=\"dataframe\">\n",
       "  <thead>\n",
       "    <tr style=\"text-align: right;\">\n",
       "      <th></th>\n",
       "      <th>Account Code</th>\n",
       "      <th>Territory</th>\n",
       "      <th>Account Type</th>\n",
       "      <th>Key Account</th>\n",
       "      <th>Key Account Manager</th>\n",
       "      <th>Account Name</th>\n",
       "      <th>Account Manager</th>\n",
       "    </tr>\n",
       "  </thead>\n",
       "  <tbody>\n",
       "    <tr>\n",
       "      <th>0</th>\n",
       "      <td>78973104</td>\n",
       "      <td>Gracklstugh</td>\n",
       "      <td>Private Buyer</td>\n",
       "      <td>Private Buyer</td>\n",
       "      <td>Magnus Mortensen</td>\n",
       "      <td>Abigaíl-Fuentes-Benítez Gracklstugh</td>\n",
       "      <td>Magnus Mortensen</td>\n",
       "    </tr>\n",
       "  </tbody>\n",
       "</table>\n",
       "</div>"
      ],
      "text/plain": [
       "   Account Code    Territory   Account Type    Key Account  \\\n",
       "0      78973104  Gracklstugh  Private Buyer  Private Buyer   \n",
       "\n",
       "  Key Account Manager                         Account Name   Account Manager  \n",
       "0    Magnus Mortensen  Abigaíl-Fuentes-Benítez Gracklstugh  Magnus Mortensen  "
      ]
     },
     "execution_count": 15,
     "metadata": {},
     "output_type": "execute_result"
    }
   ],
   "source": [
    "customers.head(1)"
   ]
  },
  {
   "cell_type": "code",
   "execution_count": 16,
   "metadata": {},
   "outputs": [],
   "source": [
    "customers = customers.rename(columns={\"Account Code\": \"AccountCode\", \"Account Type\": \"AccountType\", \"Key Account\": \"KeyAccount\",\n",
    "                    \"Key Account Manager\": \"KeyAccountManager\", \"Account Name\": \"AccountName\", \"Account Manager\": \"AccountManager\"})"
   ]
  },
  {
   "cell_type": "code",
   "execution_count": 17,
   "metadata": {},
   "outputs": [
    {
     "data": {
      "text/html": [
       "<div>\n",
       "<style scoped>\n",
       "    .dataframe tbody tr th:only-of-type {\n",
       "        vertical-align: middle;\n",
       "    }\n",
       "\n",
       "    .dataframe tbody tr th {\n",
       "        vertical-align: top;\n",
       "    }\n",
       "\n",
       "    .dataframe thead th {\n",
       "        text-align: right;\n",
       "    }\n",
       "</style>\n",
       "<table border=\"1\" class=\"dataframe\">\n",
       "  <thead>\n",
       "    <tr style=\"text-align: right;\">\n",
       "      <th></th>\n",
       "      <th>AccountCode</th>\n",
       "      <th>Territory</th>\n",
       "      <th>AccountType</th>\n",
       "      <th>KeyAccount</th>\n",
       "      <th>KeyAccountManager</th>\n",
       "      <th>AccountName</th>\n",
       "      <th>AccountManager</th>\n",
       "    </tr>\n",
       "  </thead>\n",
       "  <tbody>\n",
       "    <tr>\n",
       "      <th>0</th>\n",
       "      <td>78973104</td>\n",
       "      <td>Gracklstugh</td>\n",
       "      <td>Private Buyer</td>\n",
       "      <td>Private Buyer</td>\n",
       "      <td>Magnus Mortensen</td>\n",
       "      <td>Abigaíl-Fuentes-Benítez Gracklstugh</td>\n",
       "      <td>Magnus Mortensen</td>\n",
       "    </tr>\n",
       "  </tbody>\n",
       "</table>\n",
       "</div>"
      ],
      "text/plain": [
       "   AccountCode    Territory    AccountType     KeyAccount KeyAccountManager  \\\n",
       "0     78973104  Gracklstugh  Private Buyer  Private Buyer  Magnus Mortensen   \n",
       "\n",
       "                           AccountName    AccountManager  \n",
       "0  Abigaíl-Fuentes-Benítez Gracklstugh  Magnus Mortensen  "
      ]
     },
     "execution_count": 17,
     "metadata": {},
     "output_type": "execute_result"
    }
   ],
   "source": [
    "customers.head(1)"
   ]
  }
 ],
 "metadata": {
  "kernelspec": {
   "display_name": "Python 3",
   "language": "python",
   "name": "python3"
  },
  "language_info": {
   "codemirror_mode": {
    "name": "ipython",
    "version": 3
   },
   "file_extension": ".py",
   "mimetype": "text/x-python",
   "name": "python",
   "nbconvert_exporter": "python",
   "pygments_lexer": "ipython3",
   "version": "3.8.10"
  }
 },
 "nbformat": 4,
 "nbformat_minor": 2
}
